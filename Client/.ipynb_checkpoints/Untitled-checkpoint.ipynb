{
 "cells": [
  {
   "cell_type": "code",
   "execution_count": 6,
   "metadata": {},
   "outputs": [
    {
     "name": "stdout",
     "output_type": "stream",
     "text": [
      "客户端启动:\n",
      "\n"
     ]
    }
   ],
   "source": [
    "import socket\n",
    "ip_port = ('127.0.0.1',38472)\n",
    "sk = socket.socket()\n",
    "sk.connect(ip_port)\n",
    "print (\"客户端启动:\")\n",
    "\n",
    "origin = '40.758,-73.987'\n",
    "destination = '40.807,-73.964'\n",
    "inp = origin + '|' + destination\n",
    "sk.sendall(inp)\n",
    "server_response=sk.recv(1024)\n",
    "print (server_response)\n",
    "sk.close()"
   ]
  },
  {
   "cell_type": "code",
   "execution_count": 3,
   "metadata": {},
   "outputs": [],
   "source": [
    "origin = '40.758,-73.987'\n",
    "destination = '40.807, -73.964'\n",
    "inp = origin + '|' + destination"
   ]
  },
  {
   "cell_type": "code",
   "execution_count": 4,
   "metadata": {},
   "outputs": [
    {
     "data": {
      "text/plain": [
       "str"
      ]
     },
     "execution_count": 4,
     "metadata": {},
     "output_type": "execute_result"
    }
   ],
   "source": [
    "type(inp)"
   ]
  },
  {
   "cell_type": "code",
   "execution_count": null,
   "metadata": {
    "collapsed": true
   },
   "outputs": [],
   "source": []
  }
 ],
 "metadata": {
  "kernelspec": {
   "display_name": "Python 2",
   "language": "python",
   "name": "python2"
  },
  "language_info": {
   "codemirror_mode": {
    "name": "ipython",
    "version": 2
   },
   "file_extension": ".py",
   "mimetype": "text/x-python",
   "name": "python",
   "nbconvert_exporter": "python",
   "pygments_lexer": "ipython2",
   "version": "2.7.13"
  }
 },
 "nbformat": 4,
 "nbformat_minor": 2
}
