{
 "cells": [
  {
   "cell_type": "code",
   "execution_count": 23,
   "metadata": {},
   "outputs": [
    {
     "name": "stdout",
     "output_type": "stream",
     "text": [
      "客户端启动:\n",
      "43.8|51.13\n"
     ]
    }
   ],
   "source": [
    "import socket\n",
    "ip_port = ('35.193.237.218',38471)\n",
    "# ip_port = ('127.0.0.1',38472)\n",
    "sk = socket.socket()\n",
    "sk.connect(ip_port)\n",
    "print (\"客户端启动:\")\n",
    "\n",
    "origin = '40.658,-73.987'\n",
    "destination = '40.807,-73.964'\n",
    "inp = origin + '|' + destination\n",
    "sk.sendall(inp)\n",
    "server_response=sk.recv(1024)\n",
    "print (server_response)\n",
    "sk.close()"
   ]
  },
  {
   "cell_type": "code",
   "execution_count": 18,
   "metadata": {
    "collapsed": true
   },
   "outputs": [],
   "source": [
    "origin = '40.758,-73.987'\n",
    "destination = '40.807, -73.964'\n",
    "inp = origin + '|' + destination"
   ]
  },
  {
   "cell_type": "code",
   "execution_count": 4,
   "metadata": {},
   "outputs": [
    {
     "data": {
      "text/plain": [
       "str"
      ]
     },
     "execution_count": 4,
     "metadata": {},
     "output_type": "execute_result"
    }
   ],
   "source": [
    "type(inp)"
   ]
  },
  {
   "cell_type": "code",
   "execution_count": 47,
   "metadata": {},
   "outputs": [
    {
     "name": "stdout",
     "output_type": "stream",
     "text": [
      "[  4.80000000e+00   1.31600000e+03   5.30000000e+01   8.00000000e+00\n",
      "   0.00000000e+00   1.00000000e+00   0.00000000e+00   0.00000000e+00\n",
      "   0.00000000e+00   0.00000000e+00   0.00000000e+00]\n"
     ]
    }
   ],
   "source": [
    "import socketserver\n",
    "import json\n",
    "from sklearn.externals import joblib\n",
    "import simplejson\n",
    "import urllib\n",
    "import datetime\n",
    "import numpy as np\n",
    "\n",
    "client_data = inp\n",
    "origin = client_data.split('|')[0]\n",
    "destination = client_data.split('|')[1]\n",
    "url = \"http://maps.googleapis.com/maps/api/distancematrix/json?units=imperial&origins=%s&destinations=%s&sensor=false&mode=driving\"%(origin,destination)\n",
    "result= simplejson.load(urllib.urlopen(url))\n",
    "duration = result['rows'][0]['elements'][0]['duration']['value']\n",
    "trip_distance = result['rows'][0]['elements'][0]['distance']['text']\n",
    "\n",
    "data = (float(trip_distance[:-3]), float(duration))\n",
    "weather_forecast = json.load(open('weather_forecast.json'))\n",
    "hour = datetime.datetime.now().strftime('%H')\n",
    "weather = weather_forecast[hour][1:]\n",
    "data = data + (weather[0],weather[2],weather[3])\n",
    "vec = joblib.load('12_vec.pkl')\n",
    "dummyX = vec.transform([{'Weather':weather[1]}]).toarray()\n",
    "data = np.hstack([np.array(data),dummyX[0]])\n",
    "print data\n"
   ]
  },
  {
   "cell_type": "code",
   "execution_count": 37,
   "metadata": {},
   "outputs": [
    {
     "data": {
      "text/plain": [
       "array([[ 1.,  0.,  0.,  0.,  0.,  0.]])"
      ]
     },
     "execution_count": 37,
     "metadata": {},
     "output_type": "execute_result"
    }
   ],
   "source": [
    "dummyX"
   ]
  },
  {
   "cell_type": "code",
   "execution_count": 39,
   "metadata": {},
   "outputs": [
    {
     "data": {
      "text/plain": [
       "array([    4.8,  1316. ,    53. ,     8. ,     0. ])"
      ]
     },
     "execution_count": 39,
     "metadata": {},
     "output_type": "execute_result"
    }
   ],
   "source": [
    "np.array(data)"
   ]
  },
  {
   "cell_type": "code",
   "execution_count": 45,
   "metadata": {},
   "outputs": [
    {
     "data": {
      "text/plain": [
       "array([  4.80000000e+00,   1.31600000e+03,   5.30000000e+01,\n",
       "         8.00000000e+00,   0.00000000e+00,   1.00000000e+00,\n",
       "         0.00000000e+00,   0.00000000e+00,   0.00000000e+00,\n",
       "         0.00000000e+00,   0.00000000e+00])"
      ]
     },
     "execution_count": 45,
     "metadata": {},
     "output_type": "execute_result"
    }
   ],
   "source": [
    "np.hstack([np.array(data),dummyX[0]])"
   ]
  },
  {
   "cell_type": "code",
   "execution_count": null,
   "metadata": {
    "collapsed": true
   },
   "outputs": [],
   "source": []
  }
 ],
 "metadata": {
  "kernelspec": {
   "display_name": "Python 2",
   "language": "python",
   "name": "python2"
  },
  "language_info": {
   "codemirror_mode": {
    "name": "ipython",
    "version": 2
   },
   "file_extension": ".py",
   "mimetype": "text/x-python",
   "name": "python",
   "nbconvert_exporter": "python",
   "pygments_lexer": "ipython2",
   "version": "2.7.13"
  }
 },
 "nbformat": 4,
 "nbformat_minor": 2
}
