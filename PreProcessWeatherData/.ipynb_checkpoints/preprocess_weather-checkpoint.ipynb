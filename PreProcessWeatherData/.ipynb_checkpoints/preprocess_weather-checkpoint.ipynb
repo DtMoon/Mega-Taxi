{
 "cells": [
  {
   "cell_type": "code",
   "execution_count": 79,
   "metadata": {
    "collapsed": false,
    "scrolled": false
   },
   "outputs": [],
   "source": [
    "import pandas as pd\n",
    "import json\n",
    "import os\n",
    "import random\n",
    "import math\n",
    "\n",
    "# month = ['03', '04']\n",
    "# month = ['12']\n",
    "month = [str(i).zfill(2) for i in range(1,13)]\n",
    "path = os.path.dirname(os.getcwd())+'/WeatherCrawler/'\n",
    "\n",
    "standardWeatherType = json.load(open('WeahterTypes.json'))\n",
    "\n",
    "def transferWeatherTypeToStandard(weatherType):\n",
    "    weatherType = weatherType.split('.')[0].lower()\n",
    "    for key in standardWeatherType:\n",
    "        if weatherType in standardWeatherType[key]: return key\n",
    "    return 'clear'\n",
    "\n",
    "for i in month:\n",
    "    weather = pd.read_csv(path+r'weather_processed/weather_2016_%s.csv'%i,index_col='Time')\n",
    "    \n",
    "    weather = weather.fillna(method = 'ffill')\n",
    "    weather['Wind'] = weather['Wind'].replace('No wind', 0)\n",
    "#     print weather['Wind'].unique()\n",
    "    \n",
    "    weather['Weather'] = weather['Weather'].apply(transferWeatherTypeToStandard)\n",
    "#     print weather['Weather'].unique()\n",
    "    \n",
    "    weather.index = weather.index.str.replace('24:','23:')\n",
    "#     print len(weather.index.str.slice(3,5).unique())\n",
    "\n",
    "    visibility = list(weather[weather['Visibility'].notnull()]['Visibility'])\n",
    "    weather['Visibility'] = weather['Visibility'].apply(lambda x: random.sample(visibility, 1)[0] if math.isnan(x) else x)\n",
    "    weather.to_csv('weather_processed_again/weather_2015_%s.csv'%i)"
   ]
  },
  {
   "cell_type": "code",
   "execution_count": 80,
   "metadata": {
    "collapsed": false
   },
   "outputs": [
    {
     "data": {
      "text/html": [
       "<div>\n",
       "<table border=\"1\" class=\"dataframe\">\n",
       "  <thead>\n",
       "    <tr style=\"text-align: right;\">\n",
       "      <th></th>\n",
       "      <th>Temp</th>\n",
       "      <th>Weather</th>\n",
       "      <th>Wind</th>\n",
       "      <th>Humidity</th>\n",
       "      <th>Barometer</th>\n",
       "      <th>Visibility</th>\n",
       "    </tr>\n",
       "    <tr>\n",
       "      <th>Time</th>\n",
       "      <th></th>\n",
       "      <th></th>\n",
       "      <th></th>\n",
       "      <th></th>\n",
       "      <th></th>\n",
       "      <th></th>\n",
       "    </tr>\n",
       "  </thead>\n",
       "  <tbody>\n",
       "    <tr>\n",
       "      <th>01 00:51</th>\n",
       "      <td>52</td>\n",
       "      <td>light rain</td>\n",
       "      <td>6</td>\n",
       "      <td>97</td>\n",
       "      <td>29.48</td>\n",
       "      <td>2.0</td>\n",
       "    </tr>\n",
       "    <tr>\n",
       "      <th>01 01:51</th>\n",
       "      <td>52</td>\n",
       "      <td>fog</td>\n",
       "      <td>0</td>\n",
       "      <td>97</td>\n",
       "      <td>29.50</td>\n",
       "      <td>3.0</td>\n",
       "    </tr>\n",
       "    <tr>\n",
       "      <th>01 02:51</th>\n",
       "      <td>51</td>\n",
       "      <td>fog</td>\n",
       "      <td>6</td>\n",
       "      <td>96</td>\n",
       "      <td>29.46</td>\n",
       "      <td>3.0</td>\n",
       "    </tr>\n",
       "    <tr>\n",
       "      <th>01 03:51</th>\n",
       "      <td>52</td>\n",
       "      <td>cloud</td>\n",
       "      <td>6</td>\n",
       "      <td>93</td>\n",
       "      <td>29.50</td>\n",
       "      <td>10.0</td>\n",
       "    </tr>\n",
       "    <tr>\n",
       "      <th>01 04:51</th>\n",
       "      <td>52</td>\n",
       "      <td>light rain</td>\n",
       "      <td>5</td>\n",
       "      <td>86</td>\n",
       "      <td>29.53</td>\n",
       "      <td>10.0</td>\n",
       "    </tr>\n",
       "  </tbody>\n",
       "</table>\n",
       "</div>"
      ],
      "text/plain": [
       "          Temp     Weather Wind  Humidity  Barometer  Visibility\n",
       "Time                                                            \n",
       "01 00:51    52  light rain    6        97      29.48         2.0\n",
       "01 01:51    52         fog    0        97      29.50         3.0\n",
       "01 02:51    51         fog    6        96      29.46         3.0\n",
       "01 03:51    52       cloud    6        93      29.50        10.0\n",
       "01 04:51    52  light rain    5        86      29.53        10.0"
      ]
     },
     "execution_count": 80,
     "metadata": {},
     "output_type": "execute_result"
    }
   ],
   "source": [
    "weather.head()"
   ]
  },
  {
   "cell_type": "code",
   "execution_count": null,
   "metadata": {
    "collapsed": true
   },
   "outputs": [],
   "source": []
  }
 ],
 "metadata": {
  "anaconda-cloud": {},
  "kernelspec": {
   "display_name": "Python [Root]",
   "language": "python",
   "name": "Python [Root]"
  },
  "language_info": {
   "codemirror_mode": {
    "name": "ipython",
    "version": 2
   },
   "file_extension": ".py",
   "mimetype": "text/x-python",
   "name": "python",
   "nbconvert_exporter": "python",
   "pygments_lexer": "ipython2",
   "version": "2.7.12"
  }
 },
 "nbformat": 4,
 "nbformat_minor": 2
}
