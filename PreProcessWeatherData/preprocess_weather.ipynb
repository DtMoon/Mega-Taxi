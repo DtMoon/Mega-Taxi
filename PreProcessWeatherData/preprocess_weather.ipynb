{
 "cells": [
  {
   "cell_type": "code",
   "execution_count": 3,
   "metadata": {
    "scrolled": false
   },
   "outputs": [
    {
     "name": "stderr",
     "output_type": "stream",
     "text": [
      "D:\\Application\\Anaconda2\\lib\\site-packages\\ipykernel_launcher.py:17: UnicodeWarning: Unicode equal comparison failed to convert both arguments to Unicode - interpreting them as being unequal\n"
     ]
    }
   ],
   "source": [
    "import pandas as pd\n",
    "import json\n",
    "import os\n",
    "import random\n",
    "import math\n",
    "\n",
    "# month = ['03', '04']\n",
    "# month = ['12']\n",
    "month = [str(i).zfill(2) for i in range(1,13)]\n",
    "path = os.path.dirname(os.getcwd())+'/WeatherCrawler/'\n",
    "\n",
    "standardWeatherType = json.load(open('WeahterTypes.json'))\n",
    "\n",
    "def transferWeatherTypeToStandard(weatherType):\n",
    "    weatherType = weatherType.split('.')[0].lower()\n",
    "    for key in standardWeatherType:\n",
    "        if weatherType in standardWeatherType[key]: return key\n",
    "    return 'clear'\n",
    "\n",
    "for i in month:\n",
    "    weather = pd.read_csv(path+r'weather_processed/weather_2015_%s.csv'%i,index_col='Time')\n",
    "    \n",
    "    weather = weather.fillna(method = 'ffill')\n",
    "    weather['Wind'] = weather['Wind'].replace('No wind', 0)\n",
    "#     print weather['Wind'].unique()\n",
    "    \n",
    "    weather['Weather'] = weather['Weather'].apply(transferWeatherTypeToStandard)\n",
    "#     print weather['Weather'].unique()\n",
    "    \n",
    "    weather.index = weather.index.str.replace('24:','23:')\n",
    "#     print len(weather.index.str.slice(3,5).unique())\n",
    "\n",
    "    visibility = list(weather[weather['Visibility'].notnull()]['Visibility'])\n",
    "    weather['Visibility'] = weather['Visibility'].apply(lambda x: random.sample(visibility, 1)[0] if math.isnan(x) else x)\n",
    "    weather.to_csv('weather_processed_again/weather_2015_%s.csv'%i)"
   ]
  },
  {
   "cell_type": "code",
   "execution_count": 4,
   "metadata": {},
   "outputs": [
    {
     "data": {
      "text/html": [
       "<div>\n",
       "<style>\n",
       "    .dataframe thead tr:only-child th {\n",
       "        text-align: right;\n",
       "    }\n",
       "\n",
       "    .dataframe thead th {\n",
       "        text-align: left;\n",
       "    }\n",
       "\n",
       "    .dataframe tbody tr th {\n",
       "        vertical-align: top;\n",
       "    }\n",
       "</style>\n",
       "<table border=\"1\" class=\"dataframe\">\n",
       "  <thead>\n",
       "    <tr style=\"text-align: right;\">\n",
       "      <th></th>\n",
       "      <th>Temp</th>\n",
       "      <th>Weather</th>\n",
       "      <th>Wind</th>\n",
       "      <th>Humidity</th>\n",
       "      <th>Barometer</th>\n",
       "      <th>Visibility</th>\n",
       "    </tr>\n",
       "    <tr>\n",
       "      <th>Time</th>\n",
       "      <th></th>\n",
       "      <th></th>\n",
       "      <th></th>\n",
       "      <th></th>\n",
       "      <th></th>\n",
       "      <th></th>\n",
       "    </tr>\n",
       "  </thead>\n",
       "  <tbody>\n",
       "    <tr>\n",
       "      <th>01 00:51</th>\n",
       "      <td>45.0</td>\n",
       "      <td>light rain</td>\n",
       "      <td>9</td>\n",
       "      <td>76.0</td>\n",
       "      <td>30.30</td>\n",
       "      <td>10.0</td>\n",
       "    </tr>\n",
       "    <tr>\n",
       "      <th>01 01:51</th>\n",
       "      <td>44.0</td>\n",
       "      <td>cloud</td>\n",
       "      <td>9</td>\n",
       "      <td>82.0</td>\n",
       "      <td>30.29</td>\n",
       "      <td>10.0</td>\n",
       "    </tr>\n",
       "    <tr>\n",
       "      <th>01 02:51</th>\n",
       "      <td>44.0</td>\n",
       "      <td>cloud</td>\n",
       "      <td>11</td>\n",
       "      <td>75.0</td>\n",
       "      <td>30.31</td>\n",
       "      <td>10.0</td>\n",
       "    </tr>\n",
       "    <tr>\n",
       "      <th>01 03:51</th>\n",
       "      <td>44.0</td>\n",
       "      <td>light rain</td>\n",
       "      <td>7</td>\n",
       "      <td>89.0</td>\n",
       "      <td>30.27</td>\n",
       "      <td>7.0</td>\n",
       "    </tr>\n",
       "    <tr>\n",
       "      <th>01 04:51</th>\n",
       "      <td>45.0</td>\n",
       "      <td>light rain</td>\n",
       "      <td>8</td>\n",
       "      <td>90.0</td>\n",
       "      <td>30.25</td>\n",
       "      <td>10.0</td>\n",
       "    </tr>\n",
       "  </tbody>\n",
       "</table>\n",
       "</div>"
      ],
      "text/plain": [
       "          Temp     Weather Wind  Humidity  Barometer  Visibility\n",
       "Time                                                            \n",
       "01 00:51  45.0  light rain    9      76.0      30.30        10.0\n",
       "01 01:51  44.0       cloud    9      82.0      30.29        10.0\n",
       "01 02:51  44.0       cloud   11      75.0      30.31        10.0\n",
       "01 03:51  44.0  light rain    7      89.0      30.27         7.0\n",
       "01 04:51  45.0  light rain    8      90.0      30.25        10.0"
      ]
     },
     "execution_count": 4,
     "metadata": {},
     "output_type": "execute_result"
    }
   ],
   "source": [
    "weather.head()"
   ]
  },
  {
   "cell_type": "code",
   "execution_count": null,
   "metadata": {
    "collapsed": true
   },
   "outputs": [],
   "source": []
  }
 ],
 "metadata": {
  "anaconda-cloud": {},
  "kernelspec": {
   "display_name": "Python 2",
   "language": "python",
   "name": "python2"
  },
  "language_info": {
   "codemirror_mode": {
    "name": "ipython",
    "version": 2
   },
   "file_extension": ".py",
   "mimetype": "text/x-python",
   "name": "python",
   "nbconvert_exporter": "python",
   "pygments_lexer": "ipython2",
   "version": "2.7.13"
  }
 },
 "nbformat": 4,
 "nbformat_minor": 2
}
