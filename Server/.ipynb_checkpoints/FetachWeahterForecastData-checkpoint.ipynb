{
 "cells": [
  {
   "cell_type": "code",
   "execution_count": 1,
   "metadata": {
    "collapsed": true
   },
   "outputs": [],
   "source": [
    "import requests\n",
    "from lxml import etree\n",
    "import json\n",
    "\n",
    "url = 'https://www.timeanddate.com/weather/@8479493//hourly'\n",
    "html = requests.get(url)\n",
    "selector = etree.HTML(html.text)\n",
    "content = selector.xpath('//*[@id=\"wt-hbh\"]/tbody/tr')\n",
    "\n",
    "def processTime(t):\n",
    "    if t[-2:] == 'am':\n",
    "        if t[:2] == '12':\n",
    "            return '00'\n",
    "        return t.split(':')[0].zfill(2)\n",
    "    else:\n",
    "        if t[:2] == '12':\n",
    "            return t.split(':')[0]\n",
    "        return str(int(t.split(':')[0]) + 12)\n",
    "\n",
    "def transferWeatherTypeToStandard(weatherType):\n",
    "    weatherType = weatherType.split('.')[0].lower()\n",
    "    for key in standardWeatherType:\n",
    "        if weatherType in standardWeatherType[key]: return key\n",
    "    return 'clear'\n",
    "\n",
    "result = {}\n",
    "standardWeatherType = json.load(open('WeahterTypes.json'))\n",
    "for each in content:\n",
    "    data = [x.xpath('text()')[0].encode('utf-8') for i, x in enumerate(each) if i in [0,2,3,5]]\n",
    "    data[0] = processTime(data[0])\n",
    "    data[1] = float(data[1][:-5])\n",
    "    data[2] = transferWeatherTypeToStandard(data[2])\n",
    "    data[3] = float(data[3][:-4])\n",
    "    data.append(0) # no visibility in the website\n",
    "    result[data[0]] = data\n",
    "json.dump(result,open('weather_forecast.json','w'))"
   ]
  },
  {
   "cell_type": "code",
   "execution_count": null,
   "metadata": {
    "collapsed": true
   },
   "outputs": [],
   "source": []
  }
 ],
 "metadata": {
  "kernelspec": {
   "display_name": "Python 2",
   "language": "python",
   "name": "python2"
  },
  "language_info": {
   "codemirror_mode": {
    "name": "ipython",
    "version": 2
   },
   "file_extension": ".py",
   "mimetype": "text/x-python",
   "name": "python",
   "nbconvert_exporter": "python",
   "pygments_lexer": "ipython2",
   "version": "2.7.13"
  }
 },
 "nbformat": 4,
 "nbformat_minor": 2
}
