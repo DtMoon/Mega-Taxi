{
 "cells": [
  {
   "cell_type": "code",
   "execution_count": null,
   "metadata": {},
   "outputs": [
    {
     "name": "stdout",
     "output_type": "stream",
     "text": [
      "server starts\n",
      "服务端启动...\n",
      "('127.0.0.1', 14431)\n",
      "client_data: 40.658,-73.987|40.807,-73.964\n",
      "(12.8, 2628.0)\n",
      "43.8\n",
      "51.13\n",
      "connect close\n"
     ]
    },
    {
     "name": "stderr",
     "output_type": "stream",
     "text": [
      "D:\\Application\\Anaconda2\\lib\\site-packages\\sklearn\\utils\\validation.py:386: DeprecationWarning: Passing 1d arrays as data is deprecated in 0.17 and willraise ValueError in 0.19. Reshape your data either using X.reshape(-1, 1) if your data has a single feature or X.reshape(1, -1) if it contains a single sample.\n",
      "  DeprecationWarning)\n"
     ]
    }
   ],
   "source": [
    "import socketserver\n",
    "import json\n",
    "from sklearn.externals import joblib\n",
    "import simplejson\n",
    "import urllib\n",
    "import datetime\n",
    "import numpy as np\n",
    "\n",
    "vec = joblib.load('12_vec.pkl')\n",
    "weekday_model = joblib.load('12_weekday_BestModel_RandomForestRegressor.pkl')\n",
    "weekend_model = joblib.load('12_weekend_BestModel_RandomForestRegressor.pkl')\n",
    "\n",
    "class MyServer(socketserver.BaseRequestHandler):\n",
    "\n",
    "    def fetchTripInfo(self, origin, destination):\n",
    "        url = \"http://maps.googleapis.com/maps/api/distancematrix/json?units=imperial&origins=%s&destinations=%s&sensor=false&mode=driving\"%(origin,destination)\n",
    "        result= simplejson.load(urllib.urlopen(url))\n",
    "        duration = result['rows'][0]['elements'][0]['duration']['value']\n",
    "        trip_distance = result['rows'][0]['elements'][0]['distance']['text']\n",
    "        return float(trip_distance[:-3]), float(duration)\n",
    "    \n",
    "    def predict_cost(self, client_data):\n",
    "        origin = client_data.split('|')[0]\n",
    "        destination = client_data.split('|')[1]\n",
    "        data = self.fetchTripInfo(origin, destination)\n",
    "        print data\n",
    "        duration = data[1]/60\n",
    "        weather_forecast = json.load(open('weather_forecast.json'))\n",
    "        hour = datetime.datetime.now().strftime('%H').zfill(2)\n",
    "        weather = weather_forecast[hour][1:]\n",
    "        data = data + (weather[0],weather[2],weather[3])\n",
    "        dummyX = vec.transform([{'Weather':weather[1]}]).toarray()\n",
    "        data = np.hstack([np.array(data),dummyX[0]])\n",
    "        if datetime.datetime.now().weekday() <= 4:\n",
    "            return duration, weekday_model.predict(data)[0]\n",
    "        else:\n",
    "            return duration, weekend_model.predict(data)[0]\n",
    "    \n",
    "    def handle(self):\n",
    "        print (\"服务端启动...\")\n",
    "        try:\n",
    "            conn = self.request\n",
    "            print (self.client_address)\n",
    "\n",
    "            client_data = conn.recv(1024)\n",
    "            print(\"client_data: \"+client_data)\n",
    "\n",
    "            duration, cost = self.predict_cost(client_data)\n",
    "            duration = float(\"%.2f\"%duration)\n",
    "            cost = float(\"%.2f\"%cost)\n",
    "            print duration\n",
    "            print cost\n",
    "\n",
    "            conn.sendall(str(duration) + \"|\" + str(cost))\n",
    "        except Exception as e:\n",
    "            print(e)\n",
    "        finally:\n",
    "            print('connect close')\n",
    "            conn.close()\n",
    "\n",
    "if __name__ == '__main__':\n",
    "    server = socketserver.ThreadingTCPServer(('0.0.0.0', 38472), MyServer)\n",
    "    print ('server starts')\n",
    "    server.serve_forever()\n"
   ]
  },
  {
   "cell_type": "code",
   "execution_count": null,
   "metadata": {
    "collapsed": true
   },
   "outputs": [],
   "source": []
  }
 ],
 "metadata": {
  "kernelspec": {
   "display_name": "Python 2",
   "language": "python",
   "name": "python2"
  },
  "language_info": {
   "codemirror_mode": {
    "name": "ipython",
    "version": 2
   },
   "file_extension": ".py",
   "mimetype": "text/x-python",
   "name": "python",
   "nbconvert_exporter": "python",
   "pygments_lexer": "ipython2",
   "version": "2.7.13"
  }
 },
 "nbformat": 4,
 "nbformat_minor": 2
}
